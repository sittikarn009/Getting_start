{
    "cells": [
        {
            "cell_type": "markdown",
            "metadata": {},
            "source": "<center>\n    <img src=\"https://gitlab.com/ibm/skills-network/courses/placeholder101/-/raw/master/labs/module%201/images/IDSNlogo.png\" width=\"300\" alt=\"cognitiveclass.ai logo\"  />\n</center>\n"
        },
        {
            "cell_type": "markdown",
            "metadata": {},
            "source": "# **Space X  Falcon 9 First Stage Landing Prediction**\n"
        },
        {
            "cell_type": "markdown",
            "metadata": {},
            "source": "## Web scraping Falcon 9 and Falcon Heavy Launches Records from Wikipedia\n"
        },
        {
            "cell_type": "markdown",
            "metadata": {},
            "source": "Estimated time needed: **40** minutes\n"
        },
        {
            "cell_type": "markdown",
            "metadata": {},
            "source": "In this lab, you will be performing web scraping to collect Falcon 9 historical launch records from a Wikipedia page titled `List of Falcon 9 and Falcon Heavy launches`\n\n[https://en.wikipedia.org/wiki/List_of_Falcon\\_9\\_and_Falcon_Heavy_launches](https://en.wikipedia.org/wiki/List_of_Falcon\\_9\\_and_Falcon_Heavy_launches?utm_medium=Exinfluencer&utm_source=Exinfluencer&utm_content=000026UJ&utm_term=10006555&utm_id=NA-SkillsNetwork-Channel-SkillsNetworkCoursesIBMDS0321ENSkillsNetwork26802033-2021-01-01)\n"
        },
        {
            "cell_type": "markdown",
            "metadata": {},
            "source": "![](https://cf-courses-data.s3.us.cloud-object-storage.appdomain.cloud/IBM-DS0321EN-SkillsNetwork/labs/module\\_1\\_L2/images/Falcon9\\_rocket_family.svg)\n"
        },
        {
            "cell_type": "markdown",
            "metadata": {},
            "source": "Falcon 9 first stage will land successfully\n"
        },
        {
            "cell_type": "markdown",
            "metadata": {},
            "source": "![](https://cf-courses-data.s3.us.cloud-object-storage.appdomain.cloud/IBMDeveloperSkillsNetwork-DS0701EN-SkillsNetwork/api/Images/landing\\_1.gif)\n"
        },
        {
            "cell_type": "markdown",
            "metadata": {},
            "source": "Several examples of an unsuccessful landing are shown here:\n"
        },
        {
            "cell_type": "markdown",
            "metadata": {},
            "source": "![](https://cf-courses-data.s3.us.cloud-object-storage.appdomain.cloud/IBMDeveloperSkillsNetwork-DS0701EN-SkillsNetwork/api/Images/crash.gif)\n"
        },
        {
            "cell_type": "markdown",
            "metadata": {},
            "source": "More specifically, the launch records are stored in a HTML table shown below:\n"
        },
        {
            "cell_type": "markdown",
            "metadata": {},
            "source": "![](https://cf-courses-data.s3.us.cloud-object-storage.appdomain.cloud/IBM-DS0321EN-SkillsNetwork/labs/module\\_1\\_L2/images/falcon9-launches-wiki.png)\n"
        },
        {
            "cell_type": "markdown",
            "metadata": {},
            "source": "## Objectives\n\nWeb scrap Falcon 9 launch records with `BeautifulSoup`:\n\n*   Extract a Falcon 9 launch records HTML table from Wikipedia\n*   Parse the table and convert it into a Pandas data frame\n"
        },
        {
            "cell_type": "markdown",
            "metadata": {},
            "source": "First let's import required packages for this lab\n"
        },
        {
            "cell_type": "code",
            "execution_count": 1,
            "metadata": {},
            "outputs": [
                {
                    "name": "stdout",
                    "output_type": "stream",
                    "text": "Requirement already satisfied: beautifulsoup4 in /opt/conda/envs/Python-3.8-main/lib/python3.8/site-packages (4.9.3)\nRequirement already satisfied: soupsieve>1.2 in /opt/conda/envs/Python-3.8-main/lib/python3.8/site-packages (from beautifulsoup4) (2.2.1)\nRequirement already satisfied: requests in /opt/conda/envs/Python-3.8-main/lib/python3.8/site-packages (2.25.1)\nRequirement already satisfied: idna<3,>=2.5 in /opt/conda/envs/Python-3.8-main/lib/python3.8/site-packages (from requests) (2.8)\nRequirement already satisfied: chardet<5,>=3.0.2 in /opt/conda/envs/Python-3.8-main/lib/python3.8/site-packages (from requests) (3.0.4)\nRequirement already satisfied: urllib3<1.27,>=1.21.1 in /opt/conda/envs/Python-3.8-main/lib/python3.8/site-packages (from requests) (1.26.6)\nRequirement already satisfied: certifi>=2017.4.17 in /opt/conda/envs/Python-3.8-main/lib/python3.8/site-packages (from requests) (2021.10.8)\n"
                }
            ],
            "source": "!pip3 install beautifulsoup4\n!pip3 install requests"
        },
        {
            "cell_type": "code",
            "execution_count": 2,
            "metadata": {},
            "outputs": [],
            "source": "import sys\n\nimport requests\nfrom bs4 import BeautifulSoup\nimport re\nimport unicodedata\nimport pandas as pd"
        },
        {
            "cell_type": "markdown",
            "metadata": {},
            "source": "and we will provide some helper functions for you to process web scraped HTML table\n"
        },
        {
            "cell_type": "code",
            "execution_count": 3,
            "metadata": {},
            "outputs": [],
            "source": "def date_time(table_cells):\n    \"\"\"\n    This function returns the data and time from the HTML  table cell\n    Input: the  element of a table data cell extracts extra row\n    \"\"\"\n    return [data_time.strip() for data_time in list(table_cells.strings)][0:2]\n\ndef booster_version(table_cells):\n    \"\"\"\n    This function returns the booster version from the HTML  table cell \n    Input: the  element of a table data cell extracts extra row\n    \"\"\"\n    out=''.join([booster_version for i,booster_version in enumerate( table_cells.strings) if i%2==0][0:-1])\n    return out\n\ndef landing_status(table_cells):\n    \"\"\"\n    This function returns the landing status from the HTML table cell \n    Input: the  element of a table data cell extracts extra row\n    \"\"\"\n    out=[i for i in table_cells.strings][0]\n    return out\n\n\ndef get_mass(table_cells):\n    mass=unicodedata.normalize(\"NFKD\", table_cells.text).strip()\n    if mass:\n        mass.find(\"kg\")\n        new_mass=mass[0:mass.find(\"kg\")+2]\n    else:\n        new_mass=0\n    return new_mass\n\n\ndef extract_column_from_header(row):\n    \"\"\"\n    This function returns the landing status from the HTML table cell \n    Input: the  element of a table data cell extracts extra row\n    \"\"\"\n    if (row.br):\n        row.br.extract()\n    if row.a:\n        row.a.extract()\n    if row.sup:\n        row.sup.extract()\n        \n    colunm_name = ' '.join(row.contents)\n    \n    # Filter the digit and empty names\n    if not(colunm_name.strip().isdigit()):\n        colunm_name = colunm_name.strip()\n        return colunm_name    \n"
        },
        {
            "cell_type": "markdown",
            "metadata": {},
            "source": "To keep the lab tasks consistent, you will be asked to scrape the data from a snapshot of the  `List of Falcon 9 and Falcon Heavy launches` Wikipage updated on\n`9th June 2021`\n"
        },
        {
            "cell_type": "code",
            "execution_count": 4,
            "metadata": {},
            "outputs": [],
            "source": "static_url = \"https://en.wikipedia.org/w/index.php?title=List_of_Falcon_9_and_Falcon_Heavy_launches&oldid=1027686922\""
        },
        {
            "cell_type": "markdown",
            "metadata": {},
            "source": "Next, request the HTML page from the above URL and get a `response` object\n"
        },
        {
            "cell_type": "markdown",
            "metadata": {},
            "source": "### TASK 1: Request the Falcon9 Launch Wiki page from its URL\n"
        },
        {
            "cell_type": "markdown",
            "metadata": {},
            "source": "First, let's perform an HTTP GET method to request the Falcon9 Launch HTML page, as an HTTP response.\n"
        },
        {
            "cell_type": "code",
            "execution_count": 5,
            "metadata": {},
            "outputs": [],
            "source": "# use requests.get() method with the provided static_url\nresponse = requests.get(static_url)\n# assign the response to a object\nr=response.content"
        },
        {
            "cell_type": "markdown",
            "metadata": {},
            "source": "Create a `BeautifulSoup` object from the HTML `response`\n"
        },
        {
            "cell_type": "code",
            "execution_count": 6,
            "metadata": {},
            "outputs": [],
            "source": "# Use BeautifulSoup() to create a BeautifulSoup object from a response text content\nsoup = BeautifulSoup(r)"
        },
        {
            "cell_type": "markdown",
            "metadata": {},
            "source": "Print the page title to verify if the `BeautifulSoup` object was created properly\n"
        },
        {
            "cell_type": "code",
            "execution_count": 7,
            "metadata": {},
            "outputs": [
                {
                    "data": {
                        "text/plain": "<title>List of Falcon 9 and Falcon Heavy launches - Wikipedia</title>"
                    },
                    "execution_count": 7,
                    "metadata": {},
                    "output_type": "execute_result"
                }
            ],
            "source": "# Use soup.title attribute\nsoup.title"
        },
        {
            "cell_type": "markdown",
            "metadata": {},
            "source": "### TASK 2: Extract all column/variable names from the HTML table header\n"
        },
        {
            "cell_type": "markdown",
            "metadata": {},
            "source": "Next, we want to collect all relevant column names from the HTML table header\n"
        },
        {
            "cell_type": "markdown",
            "metadata": {},
            "source": "Let's try to find all tables on the wiki page first. If you need to refresh your memory about `BeautifulSoup`, please check the external reference link towards the end of this lab\n"
        },
        {
            "cell_type": "code",
            "execution_count": 8,
            "metadata": {},
            "outputs": [],
            "source": "# Use the find_all function in the BeautifulSoup object, with element type `table`\n# Assign the result to a list called `html_tables`\nhtml_tables = soup.find_all('tr')"
        },
        {
            "cell_type": "markdown",
            "metadata": {},
            "source": "Starting from the third table is our target table contains the actual launch records.\n"
        },
        {
            "cell_type": "code",
            "execution_count": 9,
            "metadata": {},
            "outputs": [
                {
                    "name": "stdout",
                    "output_type": "stream",
                    "text": "<tr>\n<th scope=\"col\">Flight No.\n</th>\n<th scope=\"col\">Date and<br/>time (<a href=\"/wiki/Coordinated_Universal_Time\" title=\"Coordinated Universal Time\">UTC</a>)\n</th>\n<th scope=\"col\"><a href=\"/wiki/List_of_Falcon_9_first-stage_boosters\" title=\"List of Falcon 9 first-stage boosters\">Version,<br/>Booster</a> <sup class=\"reference\" id=\"cite_ref-booster_11-0\"><a href=\"#cite_note-booster-11\">[b]</a></sup>\n</th>\n<th scope=\"col\">Launch site\n</th>\n<th scope=\"col\">Payload<sup class=\"reference\" id=\"cite_ref-Dragon_12-0\"><a href=\"#cite_note-Dragon-12\">[c]</a></sup>\n</th>\n<th scope=\"col\">Payload mass\n</th>\n<th scope=\"col\">Orbit\n</th>\n<th scope=\"col\">Customer\n</th>\n<th scope=\"col\">Launch<br/>outcome\n</th>\n<th scope=\"col\"><a href=\"/wiki/Falcon_9_first-stage_landing_tests\" title=\"Falcon 9 first-stage landing tests\">Booster<br/>landing</a>\n</th></tr>\n"
                }
            ],
            "source": "# Let's print the third table and check its content\nfirst_launch_table = html_tables[2]\nprint(first_launch_table)"
        },
        {
            "cell_type": "markdown",
            "metadata": {},
            "source": "You should able to see the columns names embedded in the table header elements `<th>` as follows:\n"
        },
        {
            "cell_type": "markdown",
            "metadata": {},
            "source": "```\n<tr>\n<th scope=\"col\">Flight No.\n</th>\n<th scope=\"col\">Date and<br/>time (<a href=\"/wiki/Coordinated_Universal_Time\" title=\"Coordinated Universal Time\">UTC</a>)\n</th>\n<th scope=\"col\"><a href=\"/wiki/List_of_Falcon_9_first-stage_boosters\" title=\"List of Falcon 9 first-stage boosters\">Version,<br/>Booster</a> <sup class=\"reference\" id=\"cite_ref-booster_11-0\"><a href=\"#cite_note-booster-11\">[b]</a></sup>\n</th>\n<th scope=\"col\">Launch site\n</th>\n<th scope=\"col\">Payload<sup class=\"reference\" id=\"cite_ref-Dragon_12-0\"><a href=\"#cite_note-Dragon-12\">[c]</a></sup>\n</th>\n<th scope=\"col\">Payload mass\n</th>\n<th scope=\"col\">Orbit\n</th>\n<th scope=\"col\">Customer\n</th>\n<th scope=\"col\">Launch<br/>outcome\n</th>\n<th scope=\"col\"><a href=\"/wiki/Falcon_9_first-stage_landing_tests\" title=\"Falcon 9 first-stage landing tests\">Booster<br/>landing</a>\n</th></tr>\n```\n"
        },
        {
            "cell_type": "markdown",
            "metadata": {},
            "source": "Next, we just need to iterate through the `<th>` elements and apply the provided `extract_column_from_header()` to extract column name one by one\n"
        },
        {
            "cell_type": "code",
            "execution_count": 24,
            "metadata": {},
            "outputs": [
                {
                    "name": "stdout",
                    "output_type": "stream",
                    "text": "['Flight No.', 'Date and time ( )', 'Launch site', 'Payload', 'Payload mass', 'Orbit', 'Customer', 'Launch outcome']\n"
                }
            ],
            "source": "column_names = []\nth_header = first_launch_table.find_all('th')\n\n# Apply find_all() function with `th` element on first_launch_table\n# Iterate each th element and apply the provided extract_column_from_header() to get a column name\n# Append the Non-empty column name (`if name is not None and len(name) > 0`) into a list called column_names\n\nfor name in th_header:\n    name1=extract_column_from_header(name)\n    if name1 is not None and len(name1) > 0:\n        column_names.append(name1)\n\nprint(column_names)        "
        },
        {
            "cell_type": "markdown",
            "metadata": {},
            "source": "Check the extracted column names\n"
        },
        {
            "cell_type": "code",
            "execution_count": 25,
            "metadata": {},
            "outputs": [
                {
                    "name": "stdout",
                    "output_type": "stream",
                    "text": "['Flight No.', 'Date and time ( )', 'Launch site', 'Payload', 'Payload mass', 'Orbit', 'Customer', 'Launch outcome']\n"
                }
            ],
            "source": "print(column_names)"
        },
        {
            "cell_type": "markdown",
            "metadata": {},
            "source": "## TASK 3: Create a data frame by parsing the launch HTML tables\n"
        },
        {
            "cell_type": "markdown",
            "metadata": {},
            "source": "We will create an empty dictionary with keys from the extracted column names in the previous task. Later, this dictionary will be converted into a Pandas dataframe\n"
        },
        {
            "cell_type": "code",
            "execution_count": 26,
            "metadata": {},
            "outputs": [],
            "source": "launch_dict= dict.fromkeys(column_names)\n\n# Remove an irrelvant column\ndel launch_dict['Date and time ( )']\n\n# Let's initial the launch_dict with each value to be an empty list\nlaunch_dict['Flight No.'] = []\nlaunch_dict['Launch site'] = []\nlaunch_dict['Payload'] = []\nlaunch_dict['Payload mass'] = []\nlaunch_dict['Orbit'] = []\nlaunch_dict['Customer'] = []\nlaunch_dict['Launch outcome'] = []\n# Added some new columns\nlaunch_dict['Version Booster']=[]\nlaunch_dict['Booster landing']=[]\nlaunch_dict['Date']=[]\nlaunch_dict['Time']=[]"
        },
        {
            "cell_type": "markdown",
            "metadata": {},
            "source": "Next, we just need to fill up the `launch_dict` with launch records extracted from table rows.\n"
        },
        {
            "cell_type": "markdown",
            "metadata": {},
            "source": "Usually, HTML tables in Wiki pages are likely to contain unexpected annotations and other types of noises, such as reference links `B0004.1[8]`, missing values `N/A [e]`, inconsistent formatting, etc.\n"
        },
        {
            "cell_type": "markdown",
            "metadata": {},
            "source": "To simplify the parsing process, we have provided an incomplete code snippet below to help you to fill up the `launch_dict`. Please complete the following code snippet with TODOs or you can choose to write your own logic to parse all launch tables:\n"
        },
        {
            "cell_type": "code",
            "execution_count": 27,
            "metadata": {},
            "outputs": [
                {
                    "name": "stdout",
                    "output_type": "stream",
                    "text": "1\n4 June 2010\n18:45\nF9 v1.0B0003.1\nCCAFS\nDragon Spacecraft Qualification Unit\nDragon Spacecraft Qualification Unit\nLEO\n<a href=\"/wiki/SpaceX\" title=\"SpaceX\">SpaceX</a>\nSuccess\n\nFailure\n2\n8 December 2010\n15:43\nF9 v1.0B0004.1\nCCAFS\nDragon\nDragon\nLEO\n<a href=\"/wiki/NASA\" title=\"NASA\">NASA</a>\nSuccess\nFailure\n3\n22 May 2012\n07:44\nF9 v1.0B0005.1\nCCAFS\nDragon\nDragon\nLEO\n<a href=\"/wiki/NASA\" title=\"NASA\">NASA</a>\nSuccess\nNo attempt\n\n4\n8 October 2012\n00:35\nF9 v1.0B0006.1\nCCAFS\nSpaceX CRS-1\nSpaceX CRS-1\nLEO\n<a href=\"/wiki/NASA\" title=\"NASA\">NASA</a>\nSuccess\n\nNo attempt\n5\n1 March 2013\n15:10\nF9 v1.0B0007.1\nCCAFS\nSpaceX CRS-2\nSpaceX CRS-2\nLEO\n<a href=\"/wiki/NASA\" title=\"NASA\">NASA</a>\nSuccess\n\nNo attempt\n\n6\n29 September 2013\n16:00\nF9 v1.1B1003\nVAFB\nCASSIOPE\nCASSIOPE\nPolar orbit\n<a href=\"/wiki/Maxar_Technologies\" title=\"Maxar Technologies\">MDA</a>\nSuccess\nUncontrolled\n7\n3 December 2013\n22:41\nF9 v1.1\nCCAFS\nSES-8\nSES-8\nGTO\n<a href=\"/wiki/SES_S.A.\" title=\"SES S.A.\">SES</a>\nSuccess\nNo attempt\n8\n6 January 2014\n22:06\nF9 v1.1\nCCAFS\nThaicom 6\nThaicom 6\nGTO\n<a href=\"/wiki/Thaicom\" title=\"Thaicom\">Thaicom</a>\nSuccess\nNo attempt\n9\n18 April 2014\n19:25\nF9 v1.1\nCape Canaveral\nSpaceX CRS-3\nSpaceX CRS-3\nLEO\n<a href=\"/wiki/NASA\" title=\"NASA\">NASA</a>\nSuccess\n\nControlled\n10\n14 July 2014\n15:15\nF9 v1.1\nCape Canaveral\nOrbcomm-OG2\nOrbcomm-OG2\nLEO\n<a href=\"/wiki/Orbcomm\" title=\"Orbcomm\">Orbcomm</a>\nSuccess\nControlled\n11\n5 August 2014\n08:00\nF9 v1.1\nCape Canaveral\nAsiaSat 8\nAsiaSat 8\nGTO\n<a href=\"/wiki/AsiaSat\" title=\"AsiaSat\">AsiaSat</a>\nSuccess\nNo attempt\n12\n7 September 2014\n05:00\nF9 v1.1\nCape Canaveral\nAsiaSat 6\nAsiaSat 6\nGTO\n<a href=\"/wiki/AsiaSat\" title=\"AsiaSat\">AsiaSat</a>\nSuccess\nNo attempt\n\n13\n21 September 2014\n05:52\nF9 v1.1\nCape Canaveral\nSpaceX CRS-4\nSpaceX CRS-4\nLEO\n<a href=\"/wiki/NASA\" title=\"NASA\">NASA</a>\nSuccess\nUncontrolled\n14\n10 January 2015\n09:47\nF9 v1.1\nCape Canaveral\nSpaceX CRS-5\nSpaceX CRS-5\nLEO\n<a href=\"/wiki/NASA\" title=\"NASA\">NASA</a>\nSuccess\nFailure \n15\n11 February 2015\n23:03\nF9 v1.1\nCape Canaveral\nDSCOVR\nDSCOVR\nHEO\n<a href=\"/wiki/United_States_Air_Force\" title=\"United States Air Force\">USAF</a>\nSuccess\n\nControlled\n16\n2 March 2015\n03:50\nF9 v1.1\nCape Canaveral\nABS-3A\nABS-3A\nGTO\n<a class=\"mw-redirect\" href=\"/wiki/Asia_Broadcast_Satellite\" title=\"Asia Broadcast Satellite\">ABS</a>\nSuccess\n\nNo attempt\n17\n14 April 2015\n20:10\nF9 v1.1\nCape Canaveral\nSpaceX CRS-6\nSpaceX CRS-6\nLEO\n<a href=\"/wiki/NASA\" title=\"NASA\">NASA</a>\nSuccess\n\nFailure\n18\n27 April 2015\n23:03\nF9 v1.1\nCape Canaveral\nT\u00fcrkmen\u00c4lem 52\u00b0E / MonacoSAT\nT\u00fcrkmen\u00c4lem 52\u00b0E / MonacoSAT\nGTO\n<a href=\"/wiki/Turkmenistan_National_Space_Agency\" title=\"Turkmenistan National Space Agency\">Turkmenistan National<br/>Space Agency</a>\nSuccess\n\nNo attempt\n19\n28 June 2015\n14:21\nF9 v1.1\nCape Canaveral\nSpaceX CRS-7\nSpaceX CRS-7\nLEO\n<a href=\"/wiki/NASA\" title=\"NASA\">NASA</a>\nFailure\nPrecluded\n20\n22 December 2015\n01:29\nF9 FT\nCape Canaveral\nOrbcomm-OG2\nOrbcomm-OG2\nLEO\n<a href=\"/wiki/Orbcomm\" title=\"Orbcomm\">Orbcomm</a>\nSuccess\n\nSuccess\n21\n17 January 2016\n18:42\nF9 v1.1\nVAFB\nJason-3\nJason-3\nLEO\n<a href=\"/wiki/NASA\" title=\"NASA\">NASA</a>\nSuccess\n\nFailure\n22\n4 March 2016\n23:35\nF9 FT\nCape Canaveral\nSES-9\nSES-9\nGTO\n<a href=\"/wiki/SES_S.A.\" title=\"SES S.A.\">SES</a>\nSuccess\n\nFailure\n23\n8 April 2016\n20:43\nF9 FT\nCape Canaveral\nSpaceX CRS-8\nSpaceX CRS-8\nLEO\n<a href=\"/wiki/NASA\" title=\"NASA\">NASA</a>\nSuccess\nSuccess\n24\n6 May 2016\n05:21\nF9 FT\nCape Canaveral\nJCSAT-14\nJCSAT-14\nGTO\n<a href=\"/wiki/SKY_Perfect_JSAT\" title=\"SKY Perfect JSAT\">SKY Perfect JSAT Group</a>\nSuccess\n\nSuccess\n25\n27 May 2016\n21:39\nF9 FT\nCape Canaveral\nThaicom 8\nThaicom 8\nGTO\n<a href=\"/wiki/Thaicom\" title=\"Thaicom\">Thaicom</a>\nSuccess\n\nSuccess\n26\n15 June 2016\n14:29\nF9 FT\nCape Canaveral\nABS-2A\nABS-2A\nGTO\n<a class=\"mw-redirect\" href=\"/wiki/Asia_Broadcast_Satellite\" title=\"Asia Broadcast Satellite\">ABS</a>\nSuccess\n\nFailure\n27\n18 July 2016\n04:45\nF9 FT\nCape Canaveral\nSpaceX CRS-9\nSpaceX CRS-9\nLEO\n<a href=\"/wiki/NASA\" title=\"NASA\">NASA</a>\nSuccess\n\nSuccess\n28\n14 August 2016\n05:26\nF9 FT\nCape Canaveral\nJCSAT-16\nJCSAT-16\nGTO\n<a class=\"mw-redirect\" href=\"/wiki/SKY_Perfect_JSAT_Group\" title=\"SKY Perfect JSAT Group\">SKY Perfect JSAT Group</a>\nSuccess\n\nSuccess\n29\n14 January 2017\n17:54\nF9 FT\nVAFB\nIridium NEXT\nIridium NEXT\nPolar\n<a href=\"/wiki/Iridium_Communications\" title=\"Iridium Communications\">Iridium Communications</a>\nSuccess\n\nSuccess\n30\n19 February 2017\n14:39\nF9 FT\nKSC\nSpaceX CRS-10\nSpaceX CRS-10\nLEO\n<a href=\"/wiki/NASA\" title=\"NASA\">NASA</a>\nSuccess\n\nSuccess\n31\n16 March 2017\n06:00\nF9 FT\nKSC\nEchoStar 23\nEchoStar 23\nGTO\n<a href=\"/wiki/EchoStar\" title=\"EchoStar\">EchoStar</a>\nSuccess\n\nNo attempt\n32\n30 March 2017\n22:27\nF9 FT\u267a\nKSC\nSES-10\nSES-10\nGTO\n<a href=\"/wiki/SES_S.A.\" title=\"SES S.A.\">SES</a>\nSuccess\nSuccess\n33\n1 May 2017\n11:15\nF9 FT\nKSC\nNROL-76\nNROL-76\nLEO\n<a href=\"/wiki/National_Reconnaissance_Office\" title=\"National Reconnaissance Office\">NRO</a>\nSuccess\n\nSuccess\n34\n15 May 2017\n23:21\nF9 FT\nKSC\nInmarsat-5 F4\nInmarsat-5 F4\nGTO\n<a href=\"/wiki/Inmarsat\" title=\"Inmarsat\">Inmarsat</a>\nSuccess\n\nNo attempt\n35\n3 June 2017\n21:07\nF9 FT\nKSC\nSpaceX CRS-11\nSpaceX CRS-11\nLEO\n<a href=\"/wiki/NASA\" title=\"NASA\">NASA</a>\nSuccess\n\nSuccess\n36\n23 June 2017\n19:10\nF9 FTB1029.2\nKSC\nBulgariaSat-1\nBulgariaSat-1\nGTO\n<a href=\"/wiki/Bulsatcom\" title=\"Bulsatcom\">Bulsatcom</a>\nSuccess\n\nSuccess\n37\n25 June 2017\n20:25\nF9 FT\nVAFB\nIridium NEXT\nIridium NEXT\nLEO\n<a href=\"/wiki/Iridium_Communications\" title=\"Iridium Communications\">Iridium Communications</a>\nSuccess\n\nSuccess\n38\n5 July 2017\n23:38\nF9 FT\nKSC\nIntelsat 35e\nIntelsat 35e\nGTO\n<a href=\"/wiki/Intelsat\" title=\"Intelsat\">Intelsat</a>\nSuccess\n\nNo attempt\n39\n14 August 2017\n16:31\nF9 B4\nKSC\nSpaceX CRS-12\nSpaceX CRS-12\nLEO\n<a href=\"/wiki/NASA\" title=\"NASA\">NASA</a>\nSuccess\n\nSuccess\n40\n24 August 2017\n18:51\nF9 FT\nVAFB\nFormosat-5\nFormosat-5\nSSO\n<a href=\"/wiki/National_Space_Organization\" title=\"National Space Organization\">NSPO</a>\nSuccess\n\nSuccess\n41\n7 September 2017\n14:00\nF9 B4\nKSC\nBoeing X-37B\nBoeing X-37B\nLEO\n<a href=\"/wiki/United_States_Air_Force\" title=\"United States Air Force\">USAF</a>\nSuccess\n\nSuccess\n42\n9 October 2017\n12:37\nF9 B4\nVAFB\nIridium NEXT\nIridium NEXT\nPolar\n<a href=\"/wiki/Iridium_Communications\" title=\"Iridium Communications\">Iridium Communications</a>\nSuccess\n\nSuccess\n43\n11 October 2017\n22:53:00\nF9 FTB1031.2\nKSC\nSES-11\nSES-11\nGTO\n<a href=\"/wiki/SES_S.A.\" title=\"SES S.A.\">SES S.A.</a>\nSuccess\n\nSuccess\n44\n30 October 2017\n19:34\nF9 B4\nKSC\nKoreasat 5A\nKoreasat 5A\nGTO\n<a href=\"/wiki/KT_Corporation\" title=\"KT Corporation\">KT Corporation</a>\nSuccess\n\nSuccess\n45\n15 December 2017\n15:36\nF9 FTB1035.2\nCape Canaveral\nSpaceX CRS-13\nSpaceX CRS-13\nLEO\n<a href=\"/wiki/NASA\" title=\"NASA\">NASA</a>\nSuccess\n\nSuccess\n46\n23 December 2017\n01:27\nF9 FTB1036.2\nVAFB\nIridium NEXT\nIridium NEXT\nPolar\n<a href=\"/wiki/Iridium_Communications\" title=\"Iridium Communications\">Iridium Communications</a>\nSuccess\nControlled\n47\n8 January 2018\n01:00\nF9 B4\nCCAFS\nZuma\nZuma\nLEO\n<a href=\"/wiki/Northrop_Grumman\" title=\"Northrop Grumman\">Northrop Grumman</a>\nSuccess\nSuccess\n48\n31 January 2018\n21:25\nF9 FTB1032.2\nCCAFS\nGovSat-1\nGovSat-1\nGTO\n<a href=\"/wiki/SES_S.A.\" title=\"SES S.A.\">SES</a>\nSuccess\nControlled\n49\n22 February 2018\n14:17\nF9 FTB1038.2\nVAFB\nPaz\nPaz\nSSO\n<a class=\"mw-redirect\" href=\"/wiki/Hisdesat\" title=\"Hisdesat\">Hisdesat</a>\nSuccess\nNo attempt\n50\n6 March 2018\n05:33\nF9 B4\nCCAFS\nHispasat 30W-6\nHispasat 30W-6\nGTO\n<a href=\"/wiki/Hispasat\" title=\"Hispasat\">Hispasat</a>\nSuccess\nNo attempt\n51\n30 March 2018\n14:14\nF9 B4B1041.2\nVAFB\nIridium NEXT\nIridium NEXT\nPolar\n<a href=\"/wiki/Iridium_Communications\" title=\"Iridium Communications\">Iridium Communications</a>\nSuccess\nNo attempt\n52\n2 April 2018\n20:30\nF9 B4B1039.2\nCCAFS\nSpaceX CRS-14\nSpaceX CRS-14\nLEO\n<a href=\"/wiki/NASA\" title=\"NASA\">NASA</a>\nSuccess\nNo attempt\n53\n18 April 2018\n22:51\nF9 B4\nCCAFS\nTransiting Exoplanet Survey Satellite\nTransiting Exoplanet Survey Satellite\nHEO\n<a href=\"/wiki/NASA\" title=\"NASA\">NASA</a>\nSuccess\nSuccess\n54\n11 May 2018\n20:14\nF9 B5B1046.1\nKSC\nBangabandhu-1\nBangabandhu-1\nGTO\n<a href=\"/wiki/Thales_Alenia_Space\" title=\"Thales Alenia Space\">Thales-Alenia</a>\nSuccess\nSuccess\n55\n22 May 2018\n19:47\nF9 B4B1043.2\nVAFB\nIridium NEXT\nIridium NEXT\nPolar\n<a href=\"/wiki/Iridium_Communications\" title=\"Iridium Communications\">Iridium Communications</a>\nSuccess\nNo attempt\n56\n4 June 2018\n04:45\nF9 B4B1040.2\nCCAFS\nSES-12\nSES-12\nGTO\n<a href=\"/wiki/SES_S.A.\" title=\"SES S.A.\">SES</a>\nSuccess\nNo attempt\n57\n29 June 2018\n09:42\nF9 B4B1045.2\nCCAFS\nSpaceX CRS-15\nSpaceX CRS-15\nLEO\n<a href=\"/wiki/NASA\" title=\"NASA\">NASA</a>\nSuccess\nNo attempt\n58\n22 July 2018\n05:50\nF9 B5\nCCAFS\nTelstar 19V\nTelstar 19V\nGTO\n<a href=\"/wiki/Telesat\" title=\"Telesat\">Telesat</a>\nSuccess\nSuccess\n59\n25 July 2018\n11:39\nF9 B5B1048\nVAFB\nIridium NEXT\nIridium NEXT\nPolar\n<a href=\"/wiki/Iridium_Communications\" title=\"Iridium Communications\">Iridium Communications</a>\nSuccess\nSuccess\n60\n7 August 2018\n05:18\nF9 B5B1046.2\nCCAFS\nMerah Putih\nMerah Putih\nGTO\n<a href=\"/wiki/Telkom_Indonesia\" title=\"Telkom Indonesia\">Telkom Indonesia</a>\nSuccess\nSuccess\n61\n10 September 2018\n04:45\nF9 B5\nCCAFS\nTelstar 18V\nTelstar 18V\nGTO\n<a href=\"/wiki/Telesat\" title=\"Telesat\">Telesat</a>\nSuccess\nSuccess\n62\n8 October 2018\n02:22\nF9 B5B1048.2\nVAFB\nSAOCOM 1A\nSAOCOM 1A\nSSO\n<a href=\"/wiki/Comisi%C3%B3n_Nacional_de_Actividades_Espaciales\" title=\"Comisi\u00f3n Nacional de Actividades Espaciales\">CONAE</a>\nSuccess\nSuccess\n63\n15 November 2018\n20:46\nF9 B5B1047.2\nKSC\nEs'hail 2\nEs'hail 2\nGTO\n<a href=\"/wiki/Es%27hailSat\" title=\"Es'hailSat\">Es'hailSat</a>\nSuccess\nSuccess\n64\n3 December 2018\n18:34:05\nF9 B5B1046.3\nVAFB\nSSO-A\nSSO-A\nSSO\n<a href=\"/wiki/Spaceflight_Industries\" title=\"Spaceflight Industries\">Spaceflight Industries</a>\nSuccess\nSuccess\n65\n5 December 2018\n18:16\nF9 B5\nCCAFS\nSpaceX CRS-16\nSpaceX CRS-16\nLEO\n<a href=\"/wiki/NASA\" title=\"NASA\">NASA</a>\nSuccess\n\nFailure\n66\n23 December 2018\n13:51\nF9 B5\nCCAFS\nGPS III\nGPS III\nMEO\n<a href=\"/wiki/United_States_Air_Force\" title=\"United States Air Force\">USAF</a>\nSuccess\nNo attempt\n67\n11 January 2019\n15:31\nF9 B5B1049.2\nVAFB\nIridium NEXT\nIridium NEXT\nPolar\n<a href=\"/wiki/Iridium_Communications\" title=\"Iridium Communications\">Iridium Communications</a>\nSuccess\n\nSuccess\n68\n22 February 2019\n01:45\nF9 B5B1048.3\nCCAFS\nNusantara Satu\nNusantara Satu\nGTO\n<a href=\"/wiki/PT_Pasifik_Satelit_Nusantara\" title=\"PT Pasifik Satelit Nusantara\">PSN</a>\nSuccess\n\nSuccess\n69\n2 March 2019\n07:49\nF9 B5[268]\nKSC\nCrew Dragon Demo-1\nCrew Dragon Demo-1\nLEO\n<a href=\"/wiki/NASA\" title=\"NASA\">NASA</a>\nSuccess\n\nSuccess\n70\n4 May 2019\n06:48\nF9 B5\nCCAFS\nSpaceX CRS-17\nSpaceX CRS-17\nLEO\n<a href=\"/wiki/NASA\" title=\"NASA\">NASA</a>\nSuccess\n\nSuccess\n71\n24 May 2019\n02:30\nF9 B5B1049.3\nCCAFS\nStarlink\nStarlink\nLEO\n<a href=\"/wiki/SpaceX\" title=\"SpaceX\">SpaceX</a>\nSuccess\n\nSuccess\n72\n12 June 2019\n14:17\nF9 B5B1051.2\nVAFB\nRADARSAT Constellation\nRADARSAT Constellation\nSSO\n<a href=\"/wiki/Canadian_Space_Agency\" title=\"Canadian Space Agency\">Canadian Space Agency</a>\nSuccess\n\nSuccess\n73\n25 July 2019\n22:01\nF9 B5B1056.2\nCCAFS\nSpaceX CRS-18\nSpaceX CRS-18\nLEO\n<a href=\"/wiki/NASA\" title=\"NASA\">NASA</a>\nSuccess\n\nSuccess\n74\n6 August 2019\n23:23\nF9 B5B1047.3\nCCAFS\nAMOS-17\nAMOS-17\nGTO\n<a href=\"/wiki/Spacecom\" title=\"Spacecom\">Spacecom</a>\nSuccess\n\nNo attempt\n75\n11 November 2019\n14:56\nF9 B5\nCCAFS\nStarlink\nStarlink\nLEO\n<a href=\"/wiki/Spacecom\" title=\"Spacecom\">SpaceX</a>\nSuccess\n\nSuccess\n76\n5 December 2019\n17:29\nF9 B5\nCCAFS\nSpaceX CRS-19\nSpaceX CRS-19\nLEO\n<a href=\"/wiki/NASA\" title=\"NASA\">NASA</a>\nSuccess\n\nSuccess\n77\n17 December 2019\n00:10\nF9 B5B1056.3\nCCAFS\nJCSat-18\nJCSat-18\nGTO\n<a class=\"mw-redirect\" href=\"/wiki/SKY_Perfect_JSAT_Group\" title=\"SKY Perfect JSAT Group\">Sky Perfect JSAT</a>\nSuccess\n\nSuccess\n78\n7 January 2020\n02:19:21\nF9 B5\nCCAFS\nStarlink\nStarlink\nLEO\n<a href=\"/wiki/SpaceX\" title=\"SpaceX\">SpaceX</a>\nSuccess\n\nSuccess\n79\n19 January 2020\n15:30\nF9 B5\nKSC\nCrew Dragon in-flight abort test\nCrew Dragon in-flight abort test\nSub-orbital\n<a href=\"/wiki/NASA\" title=\"NASA\">NASA</a>\nSuccess\n\nNo attempt\n\n80\n29 January 2020\n14:07\nF9 B5\nCCAFS\nStarlink\nStarlink\nLEO\n<a href=\"/wiki/SpaceX\" title=\"SpaceX\">SpaceX</a>\nSuccess\n\nSuccess\n81\n17 February 2020\n15:05\nF9 B5\nCCAFS\nStarlink\nStarlink\nLEO\n<a href=\"/wiki/SpaceX\" title=\"SpaceX\">SpaceX</a>\nSuccess\n\nFailure\n82\n7 March 2020\n04:50\nF9 B5\nCCAFS\nSpaceX CRS-20\nSpaceX CRS-20\nLEO\n<a href=\"/wiki/NASA\" title=\"NASA\">NASA</a>\nSuccess\n\nSuccess\n83\n18 March 2020\n12:16\nF9 B5\nKSC\nStarlink\nStarlink\nLEO\n<a href=\"/wiki/SpaceX\" title=\"SpaceX\">SpaceX</a>\nSuccess\n\nFailure\n84\n22 April 2020\n19:30\nF9 B5\nKSC\nStarlink\nStarlink\nLEO\n<a href=\"/wiki/SpaceX\" title=\"SpaceX\">SpaceX</a>\nSuccess\n\nSuccess\n85\n30 May 2020\n19:22\nF9 B5\nKSC\nCrew Dragon Demo-2\nCrew Dragon Demo-2\nLEO\n<a href=\"/wiki/NASA\" title=\"NASA\">NASA</a>\nSuccess\n\nSuccess\n86\n4 June 2020\n01:25\nF9 B5\nCCAFS\nStarlink\nStarlink\nLEO\n<a href=\"/wiki/SpaceX\" title=\"SpaceX\">SpaceX</a>\nSuccess\n\nSuccess\n87\n13 June 2020\n09:21\nF9 B5\nCCAFS\nStarlink\nStarlink\nLEO\n<a href=\"/wiki/SpaceX\" title=\"SpaceX\">SpaceX</a>\nSuccess\n\nSuccess\n88\n30 June 2020\n20:10:46\nF9 B5\nCCAFS\nGPS III\nGPS III\nMEO\n<a href=\"/wiki/United_States_Space_Force\" title=\"United States Space Force\">U.S. Space Force</a>\nSuccess\n\nSuccess\n89\n20 July 2020\n21:30\nF9 B5B1058.2\nCCAFS\nANASIS-II\nANASIS-II\nGTO\n<a href=\"/wiki/Republic_of_Korea_Army\" title=\"Republic of Korea Army\">Republic of Korea Army</a>\nSuccess\n\nSuccess\n90\n7 August 2020\n05:12\nF9 B5\nKSC\nStarlink\nStarlink\nLEO\n<a href=\"/wiki/SpaceX\" title=\"SpaceX\">SpaceX</a>\nSuccess\n\nSuccess\n91\n18 August 2020\n14:31\nF9 B5B1049.6\nCCAFS\nStarlink\nStarlink\nLEO\n<a href=\"/wiki/SpaceX\" title=\"SpaceX\">SpaceX</a>\nSuccess\n\nSuccess\n92\n30 August 2020\n23:18\nF9 B5\nCCAFS\nSAOCOM 1B\nSAOCOM 1B\nSSO\n<a class=\"mw-redirect\" href=\"/wiki/CONAE\" title=\"CONAE\">CONAE</a>\nSuccess\n\nSuccess\n93\n3 September 2020\n12:46:14\nF9 B5B1060.2\nKSC\nStarlink\nStarlink\nLEO\n<a href=\"/wiki/SpaceX\" title=\"SpaceX\">SpaceX</a>\nSuccess\n\nSuccess\n94\n6 October 2020\n11:29:34\nF9 B5B1058.3\nKSC\nStarlink\nStarlink\nLEO\n<a href=\"/wiki/SpaceX\" title=\"SpaceX\">SpaceX</a>\nSuccess\n\nSuccess\n95\n18 October 2020\n12:25:57\nF9 B5B1051.6\nKSC\nStarlink\nStarlink\nLEO\n<a href=\"/wiki/SpaceX\" title=\"SpaceX\">SpaceX</a>\nSuccess\n\nSuccess\n96\n24 October 2020\n15:31:34\nF9 B5\nCCAFS\nStarlink\nStarlink\nLEO\n<a href=\"/wiki/SpaceX\" title=\"SpaceX\">SpaceX</a>\nSuccess\n\nSuccess\n97\n5 November 2020\n23:24:23\nF9 B5\nCCAFS\nGPS III\nGPS III\nMEO\n<a href=\"/wiki/United_States_Space_Force\" title=\"United States Space Force\">USSF</a>\nSuccess\n\nSuccess\n98\n16 November 2020\n00:27\nF9 B5\nKSC\nCrew-1\nCrew-1\nLEO\n<a href=\"/wiki/NASA\" title=\"NASA\">NASA</a>\nSuccess\n\nSuccess\n99\n21 November 2020\n17:17:08\nF9 B5\nVAFB\nSentinel-6 Michael Freilich (Jason-CS A)\nSentinel-6 Michael Freilich (Jason-CS A)\nLEO\n<a href=\"/wiki/NASA\" title=\"NASA\">NASA</a>\nSuccess\n\nSuccess\n100\n25 November 2020\n02:13\nF9 B5 \u267a\nCCAFS\nStarlink\nStarlink\nLEO\n<a href=\"/wiki/SpaceX\" title=\"SpaceX\">SpaceX</a>\nSuccess\n\nSuccess\n101\n6 December 2020\n16:17:08\nF9 B5 \u267a\nKSC\nSpaceX CRS-21\nSpaceX CRS-21\nLEO\n<a href=\"/wiki/NASA\" title=\"NASA\">NASA</a>\nSuccess\n\nSuccess\n102\n13 December 2020\n17:30:00\nF9 B5 \u267a\nCCSFS\nSXM-7\nSXM-7\nGTO\n<a href=\"/wiki/Sirius_XM\" title=\"Sirius XM\">Sirius XM</a>\nSuccess\n\nSuccess\n103\n19 December 2020\n14:00:00\nF9 B5 \u267a\nKSC\nNROL-108\nNROL-108\nLEO\n<a href=\"/wiki/National_Reconnaissance_Office\" title=\"National Reconnaissance Office\">NRO</a>\nSuccess\n\nSuccess\n104\n8 January 2021\n02:15\nF9 B5\nCCSFS\nT\u00fcrksat 5A\nT\u00fcrksat 5A\nGTO\n<a href=\"/wiki/T%C3%BCrksat_(company)\" title=\"T\u00fcrksat (company)\">T\u00fcrksat</a>\nSuccess\n\nSuccess\n105\n20 January 2021\n13:02\nF9 B5B1051.8\nKSC\nStarlink\nStarlink\nLEO\n<a href=\"/wiki/SpaceX\" title=\"SpaceX\">SpaceX</a>\nSuccess\n\nSuccess\n106\n24 January 2021\n15:00\nF9 B5B1058.5\nCCSFS\nTransporter-1\nTransporter-1\nSSO\nNone\nSuccess\n\nSuccess\n107\n4 February 2021\n06:19\nF9 B5 \u267a\nCCSFS\nStarlink\nStarlink\nLEO\n<a href=\"/wiki/SpaceX\" title=\"SpaceX\">SpaceX</a>\nSuccess\n\nSuccess\n108\n16 February 2021\n03:59:37\nF9 B5 \u267a\nCCSFS\nStarlink\nStarlink\nLEO\n<a href=\"/wiki/SpaceX\" title=\"SpaceX\">SpaceX</a>\nSuccess\n\nFailure\n109\n4 March 2021\n08:24\nF9 B5 \u267a\nKSC\nStarlink\nStarlink\nLEO\n<a href=\"/wiki/SpaceX\" title=\"SpaceX\">SpaceX</a>\nSuccess\n\nSuccess\n110\n11 March 2021\n08:13:29\nF9 B5 \u267a\nCCSFS\nStarlink\nStarlink\nLEO\n<a href=\"/wiki/SpaceX\" title=\"SpaceX\">SpaceX</a>\nSuccess\n\nSuccess\n111\n14 March 2021\n10:01\nF9 B5 \u267a\nKSC\nStarlink\nStarlink\nLEO\n<a href=\"/wiki/SpaceX\" title=\"SpaceX\">SpaceX</a>\nSuccess\n\nSuccess\n112\n24 March 2021\n08:28\nF9 B5B1060.6\nCCSFS\nStarlink\nStarlink\nLEO\n<a href=\"/wiki/SpaceX\" title=\"SpaceX\">SpaceX</a>\nSuccess\n\nSuccess\n113\n7 April 2021\n16:34\nF9 B5 \u267a\nCCSFS\nStarlink\nStarlink\nLEO\n<a href=\"/wiki/SpaceX\" title=\"SpaceX\">SpaceX</a>\nSuccess\n\nSuccess\n114\n23 April 2021\n9:49\nF9 B5B1061.2\nKSC\nCrew-2\nCrew-2\nLEO\n<a href=\"/wiki/NASA\" title=\"NASA\">NASA</a>\nSuccess\n\nSuccess\n115\n29 April 2021\n03:44\nF9 B5B1060.7\nCCSFS\nStarlink\nStarlink\nLEO\n<a href=\"/wiki/SpaceX\" title=\"SpaceX\">SpaceX</a>\nSuccess\n\nSuccess\n116\n4 May 2021\n19:01\nF9 B5B1049.9\nKSC\nStarlink\nStarlink\nLEO\n<a href=\"/wiki/SpaceX\" title=\"SpaceX\">SpaceX</a>\nSuccess\n\nSuccess\n117\n9 May 2021\n06:42\nF9 B5B1051.10\nCCSFS\nStarlink\nStarlink\nLEO\n<a href=\"/wiki/SpaceX\" title=\"SpaceX\">SpaceX</a>\nSuccess\n\nSuccess\n118\n15 May 2021\n22:56\nF9 B5B1058.8\nKSC\nStarlink\nStarlink\nLEO\n<a href=\"/wiki/SpaceX\" title=\"SpaceX\">SpaceX</a>\nSuccess\n\nSuccess\n119\n26 May 2021\n18:59\nF9 B5B1063.2\nCCSFS\nStarlink\nStarlink\nLEO\n<a href=\"/wiki/SpaceX\" title=\"SpaceX\">SpaceX</a>\nSuccess\n\nSuccess\n120\n3 June 2021\n17:29\nF9 B5B1067.1\nKSC\nSpaceX CRS-22\nSpaceX CRS-22\nLEO\n<a href=\"/wiki/NASA\" title=\"NASA\">NASA</a>\nSuccess\n\nSuccess\n121\n6 June 2021\n04:26\nF9 B5\nCCSFS\nSXM-8\nSXM-8\nGTO\n<a href=\"/wiki/Sirius_XM\" title=\"Sirius XM\">Sirius XM</a>\nSuccess\n\nSuccess\n"
                }
            ],
            "source": "extracted_row = 0\n#Extract each table \nfor table_number,table in enumerate(soup.find_all('table',\"wikitable plainrowheaders collapsible\")):\n   # get table row \n    for rows in table.find_all(\"tr\"):\n        #check to see if first table heading is as number corresponding to launch a number \n        if rows.th:\n            if rows.th.string:\n                flight_number=rows.th.string.strip()\n                flag=flight_number.isdigit()\n        else:\n            flag=False\n        #get table element \n        row=rows.find_all('td')\n        #if it is number save cells in a dictonary \n        if flag:\n            extracted_row += 1\n            # Flight Number value\n            # TODO: Append the flight_number into launch_dict with key `Flight No.`\n            print(flight_number)\n            launch_dict['Flight No.'].append(flight_number)\n            datatimelist=date_time(row[0])\n            \n            # Date value\n            # TODO: Append the date into launch_dict with key `Date`\n        \n            date = datatimelist[0].strip(',')\n            launch_dict['Date'].append(date)\n            print(date)\n            \n            # Time value\n            # TODO: Append the time into launch_dict with key `Time`\n            time = datatimelist[1]\n            launch_dict['Time'].append(time)\n            print(time)\n              \n            # Booster version\n            # TODO: Append the bv into launch_dict with key `Version Booster`\n            bv=booster_version(row[1])\n            if not(bv):\n                bv=row[1].a.string\n            launch_dict['Version Booster'].append(bv)\n            print(bv)\n            \n            # Launch Site\n            # TODO: Append the bv into launch_dict with key `Launch Site`\n            launch_site = row[2].a.string\n            launch_dict['Launch site'].append(launch_site)\n            print(launch_site)\n            \n            # Payload\n            # TODO: Append the payload into launch_dict with key `Payload`\n            payload = row[3].a.string\n            launch_dict['Payload'].append(payload)\n            print(payload)\n            \n            # Payload Mass\n            # TODO: Append the payload_mass into launch_dict with key `Payload mass`\n            payload_mass = get_mass(row[4])\n            launch_dict['Payload mass'].append(payload_mass)\n            print(payload)\n            \n            # Orbit\n            # TODO: Append the orbit into launch_dict with key `Orbit`\n            orbit = row[5].a.string\n            launch_dict['Orbit'].append(orbit)\n            print(orbit)\n            \n            # Customer\n            # TODO: Append the customer into launch_dict with key `Customer`\n            customer = row[6].a\n            launch_dict['Customer'].append(customer)\n            print(customer)\n            \n            # Launch outcome\n            # TODO: Append the launch_outcome into launch_dict with key `Launch outcome`\n            launch_outcome = list(row[7].strings)[0]\n            launch_dict['Launch outcome'].append(launch_outcome)\n            print(launch_outcome)\n            \n            # Booster landing\n            # TODO: Append the launch_outcome into launch_dict with key `Booster landing`\n            booster_landing = landing_status(row[8])\n            launch_dict['Booster landing'].append(booster_landing)\n            print(booster_landing)\n            "
        },
        {
            "cell_type": "markdown",
            "metadata": {},
            "source": "After you have fill in the parsed launch record values into `launch_dict`, you can create a dataframe from it.\n"
        },
        {
            "cell_type": "code",
            "execution_count": 28,
            "metadata": {},
            "outputs": [
                {
                    "data": {
                        "text/plain": "{'Flight No.': ['1',\n  '2',\n  '3',\n  '4',\n  '5',\n  '6',\n  '7',\n  '8',\n  '9',\n  '10',\n  '11',\n  '12',\n  '13',\n  '14',\n  '15',\n  '16',\n  '17',\n  '18',\n  '19',\n  '20',\n  '21',\n  '22',\n  '23',\n  '24',\n  '25',\n  '26',\n  '27',\n  '28',\n  '29',\n  '30',\n  '31',\n  '32',\n  '33',\n  '34',\n  '35',\n  '36',\n  '37',\n  '38',\n  '39',\n  '40',\n  '41',\n  '42',\n  '43',\n  '44',\n  '45',\n  '46',\n  '47',\n  '48',\n  '49',\n  '50',\n  '51',\n  '52',\n  '53',\n  '54',\n  '55',\n  '56',\n  '57',\n  '58',\n  '59',\n  '60',\n  '61',\n  '62',\n  '63',\n  '64',\n  '65',\n  '66',\n  '67',\n  '68',\n  '69',\n  '70',\n  '71',\n  '72',\n  '73',\n  '74',\n  '75',\n  '76',\n  '77',\n  '78',\n  '79',\n  '80',\n  '81',\n  '82',\n  '83',\n  '84',\n  '85',\n  '86',\n  '87',\n  '88',\n  '89',\n  '90',\n  '91',\n  '92',\n  '93',\n  '94',\n  '95',\n  '96',\n  '97',\n  '98',\n  '99',\n  '100',\n  '101',\n  '102',\n  '103',\n  '104',\n  '105',\n  '106',\n  '107',\n  '108',\n  '109',\n  '110',\n  '111',\n  '112',\n  '113',\n  '114',\n  '115',\n  '116',\n  '117',\n  '118',\n  '119',\n  '120',\n  '121'],\n 'Launch site': ['CCAFS',\n  'CCAFS',\n  'CCAFS',\n  'CCAFS',\n  'CCAFS',\n  'VAFB',\n  'CCAFS',\n  'CCAFS',\n  'Cape Canaveral',\n  'Cape Canaveral',\n  'Cape Canaveral',\n  'Cape Canaveral',\n  'Cape Canaveral',\n  'Cape Canaveral',\n  'Cape Canaveral',\n  'Cape Canaveral',\n  'Cape Canaveral',\n  'Cape Canaveral',\n  'Cape Canaveral',\n  'Cape Canaveral',\n  'VAFB',\n  'Cape Canaveral',\n  'Cape Canaveral',\n  'Cape Canaveral',\n  'Cape Canaveral',\n  'Cape Canaveral',\n  'Cape Canaveral',\n  'Cape Canaveral',\n  'VAFB',\n  'KSC',\n  'KSC',\n  'KSC',\n  'KSC',\n  'KSC',\n  'KSC',\n  'KSC',\n  'VAFB',\n  'KSC',\n  'KSC',\n  'VAFB',\n  'KSC',\n  'VAFB',\n  'KSC',\n  'KSC',\n  'Cape Canaveral',\n  'VAFB',\n  'CCAFS',\n  'CCAFS',\n  'VAFB',\n  'CCAFS',\n  'VAFB',\n  'CCAFS',\n  'CCAFS',\n  'KSC',\n  'VAFB',\n  'CCAFS',\n  'CCAFS',\n  'CCAFS',\n  'VAFB',\n  'CCAFS',\n  'CCAFS',\n  'VAFB',\n  'KSC',\n  'VAFB',\n  'CCAFS',\n  'CCAFS',\n  'VAFB',\n  'CCAFS',\n  'KSC',\n  'CCAFS',\n  'CCAFS',\n  'VAFB',\n  'CCAFS',\n  'CCAFS',\n  'CCAFS',\n  'CCAFS',\n  'CCAFS',\n  'CCAFS',\n  'KSC',\n  'CCAFS',\n  'CCAFS',\n  'CCAFS',\n  'KSC',\n  'KSC',\n  'KSC',\n  'CCAFS',\n  'CCAFS',\n  'CCAFS',\n  'CCAFS',\n  'KSC',\n  'CCAFS',\n  'CCAFS',\n  'KSC',\n  'KSC',\n  'KSC',\n  'CCAFS',\n  'CCAFS',\n  'KSC',\n  'VAFB',\n  'CCAFS',\n  'KSC',\n  'CCSFS',\n  'KSC',\n  'CCSFS',\n  'KSC',\n  'CCSFS',\n  'CCSFS',\n  'CCSFS',\n  'KSC',\n  'CCSFS',\n  'KSC',\n  'CCSFS',\n  'CCSFS',\n  'KSC',\n  'CCSFS',\n  'KSC',\n  'CCSFS',\n  'KSC',\n  'CCSFS',\n  'KSC',\n  'CCSFS'],\n 'Payload': ['Dragon Spacecraft Qualification Unit',\n  'Dragon',\n  'Dragon',\n  'SpaceX CRS-1',\n  'SpaceX CRS-2',\n  'CASSIOPE',\n  'SES-8',\n  'Thaicom 6',\n  'SpaceX CRS-3',\n  'Orbcomm-OG2',\n  'AsiaSat 8',\n  'AsiaSat 6',\n  'SpaceX CRS-4',\n  'SpaceX CRS-5',\n  'DSCOVR',\n  'ABS-3A',\n  'SpaceX CRS-6',\n  'T\u00fcrkmen\u00c4lem 52\u00b0E / MonacoSAT',\n  'SpaceX CRS-7',\n  'Orbcomm-OG2',\n  'Jason-3',\n  'SES-9',\n  'SpaceX CRS-8',\n  'JCSAT-14',\n  'Thaicom 8',\n  'ABS-2A',\n  'SpaceX CRS-9',\n  'JCSAT-16',\n  'Iridium NEXT',\n  'SpaceX CRS-10',\n  'EchoStar 23',\n  'SES-10',\n  'NROL-76',\n  'Inmarsat-5 F4',\n  'SpaceX CRS-11',\n  'BulgariaSat-1',\n  'Iridium NEXT',\n  'Intelsat 35e',\n  'SpaceX CRS-12',\n  'Formosat-5',\n  'Boeing X-37B',\n  'Iridium NEXT',\n  'SES-11',\n  'Koreasat 5A',\n  'SpaceX CRS-13',\n  'Iridium NEXT',\n  'Zuma',\n  'GovSat-1',\n  'Paz',\n  'Hispasat 30W-6',\n  'Iridium NEXT',\n  'SpaceX CRS-14',\n  'Transiting Exoplanet Survey Satellite',\n  'Bangabandhu-1',\n  'Iridium NEXT',\n  'SES-12',\n  'SpaceX CRS-15',\n  'Telstar 19V',\n  'Iridium NEXT',\n  'Merah Putih',\n  'Telstar 18V',\n  'SAOCOM 1A',\n  \"Es'hail 2\",\n  'SSO-A',\n  'SpaceX CRS-16',\n  'GPS III',\n  'Iridium NEXT',\n  'Nusantara Satu',\n  'Crew Dragon Demo-1',\n  'SpaceX CRS-17',\n  'Starlink',\n  'RADARSAT Constellation',\n  'SpaceX CRS-18',\n  'AMOS-17',\n  'Starlink',\n  'SpaceX CRS-19',\n  'JCSat-18',\n  'Starlink',\n  'Crew Dragon in-flight abort test',\n  'Starlink',\n  'Starlink',\n  'SpaceX CRS-20',\n  'Starlink',\n  'Starlink',\n  'Crew Dragon Demo-2',\n  'Starlink',\n  'Starlink',\n  'GPS III',\n  'ANASIS-II',\n  'Starlink',\n  'Starlink',\n  'SAOCOM 1B',\n  'Starlink',\n  'Starlink',\n  'Starlink',\n  'Starlink',\n  'GPS III',\n  'Crew-1',\n  'Sentinel-6 Michael Freilich (Jason-CS A)',\n  'Starlink',\n  'SpaceX CRS-21',\n  'SXM-7',\n  'NROL-108',\n  'T\u00fcrksat 5A',\n  'Starlink',\n  'Transporter-1',\n  'Starlink',\n  'Starlink',\n  'Starlink',\n  'Starlink',\n  'Starlink',\n  'Starlink',\n  'Starlink',\n  'Crew-2',\n  'Starlink',\n  'Starlink',\n  'Starlink',\n  'Starlink',\n  'Starlink',\n  'SpaceX CRS-22',\n  'SXM-8'],\n 'Payload mass': [0,\n  0,\n  '525 kg',\n  '4,700 kg',\n  '4,877 kg',\n  '500 kg',\n  '3,170 kg',\n  '3,325 kg',\n  '2,296 kg',\n  '1,316 kg',\n  '4,535 kg',\n  '4,428 kg',\n  '2,216 kg',\n  '2,395 kg',\n  '570 kg',\n  '4,159 kg',\n  '1,898 kg',\n  '4,707 kg',\n  '1,952 kg',\n  '2,034 kg',\n  '553 kg',\n  '5,271 kg',\n  '3,136 kg',\n  '4,696 kg',\n  '3,100 kg',\n  '3,600 kg',\n  '2,257 kg',\n  '4,600 kg',\n  '9,600 kg',\n  '2,490 kg',\n  '5,600 kg',\n  '5,300 kg',\n  'C',\n  '6,070 kg',\n  '2,708 kg',\n  '3,669 kg',\n  '9,600 kg',\n  '6,761 kg',\n  '3,310 kg',\n  '475 kg',\n  '4,990 kg',\n  '9,600 kg',\n  '5,200 kg',\n  '3,500 kg',\n  '2,205 kg',\n  '9,600 kg',\n  'C',\n  '4,230 kg',\n  '2,150 kg',\n  '6,092 kg',\n  '9,600 kg',\n  '2,647 kg',\n  '362 kg',\n  '3,600 kg',\n  '6,460 kg',\n  '5,384 kg',\n  '2,697 kg',\n  '7,075 kg',\n  '9,600 kg',\n  '5,800 kg',\n  '7,060 kg',\n  '3,000 kg',\n  '5,300 kg',\n  '~4,000 kg',\n  '2,500 kg',\n  '4,400 kg',\n  '9,600 kg',\n  '4,850 kg',\n  '12,055 kg',\n  '2,495 kg',\n  '13,620 kg',\n  '4,200 kg',\n  '2,268 kg',\n  '6,500 kg',\n  '15,600 kg',\n  '2,617 kg',\n  '6,956 kg',\n  '15,600 kg',\n  '12,050 kg',\n  '15,600 kg',\n  '15,600 kg',\n  '1,977 kg',\n  '15,600 kg',\n  '15,600 kg',\n  '12,530 kg',\n  '15,600 kg',\n  '15,410 kg',\n  '4,311 kg',\n  '5,000\u20136,000 kg',\n  '14,932 kg',\n  '~15,440 kg',\n  '3,130 kg',\n  '15,600 kg',\n  '15,600 kg',\n  '15,600 kg',\n  '15,600 kg',\n  '4,311 kg',\n  '~12,500 kg',\n  '1,192 kg',\n  '15,600 kg',\n  '2,972 kg',\n  '7,000 kg',\n  'C',\n  '3,500 kg',\n  '15,600 kg',\n  '~5,000 kg',\n  '15,600 kg',\n  '15,600 kg',\n  '15,600 kg',\n  '15,600 kg',\n  '15,600 kg',\n  '15,600 kg',\n  '15,600 kg',\n  '~13,000 kg',\n  '15,600 kg',\n  '15,600 kg',\n  '15,600 kg',\n  '~14,000 kg',\n  '15,600 kg',\n  '3,328 kg',\n  '7,000 kg'],\n 'Orbit': ['LEO',\n  'LEO',\n  'LEO',\n  'LEO',\n  'LEO',\n  'Polar orbit',\n  'GTO',\n  'GTO',\n  'LEO',\n  'LEO',\n  'GTO',\n  'GTO',\n  'LEO',\n  'LEO',\n  'HEO',\n  'GTO',\n  'LEO',\n  'GTO',\n  'LEO',\n  'LEO',\n  'LEO',\n  'GTO',\n  'LEO',\n  'GTO',\n  'GTO',\n  'GTO',\n  'LEO',\n  'GTO',\n  'Polar',\n  'LEO',\n  'GTO',\n  'GTO',\n  'LEO',\n  'GTO',\n  'LEO',\n  'GTO',\n  'LEO',\n  'GTO',\n  'LEO',\n  'SSO',\n  'LEO',\n  'Polar',\n  'GTO',\n  'GTO',\n  'LEO',\n  'Polar',\n  'LEO',\n  'GTO',\n  'SSO',\n  'GTO',\n  'Polar',\n  'LEO',\n  'HEO',\n  'GTO',\n  'Polar',\n  'GTO',\n  'LEO',\n  'GTO',\n  'Polar',\n  'GTO',\n  'GTO',\n  'SSO',\n  'GTO',\n  'SSO',\n  'LEO',\n  'MEO',\n  'Polar',\n  'GTO',\n  'LEO',\n  'LEO',\n  'LEO',\n  'SSO',\n  'LEO',\n  'GTO',\n  'LEO',\n  'LEO',\n  'GTO',\n  'LEO',\n  'Sub-orbital',\n  'LEO',\n  'LEO',\n  'LEO',\n  'LEO',\n  'LEO',\n  'LEO',\n  'LEO',\n  'LEO',\n  'MEO',\n  'GTO',\n  'LEO',\n  'LEO',\n  'SSO',\n  'LEO',\n  'LEO',\n  'LEO',\n  'LEO',\n  'MEO',\n  'LEO',\n  'LEO',\n  'LEO',\n  'LEO',\n  'GTO',\n  'LEO',\n  'GTO',\n  'LEO',\n  'SSO',\n  'LEO',\n  'LEO',\n  'LEO',\n  'LEO',\n  'LEO',\n  'LEO',\n  'LEO',\n  'LEO',\n  'LEO',\n  'LEO',\n  'LEO',\n  'LEO',\n  'LEO',\n  'LEO',\n  'GTO'],\n 'Customer': [<a href=\"/wiki/SpaceX\" title=\"SpaceX\">SpaceX</a>,\n  <a href=\"/wiki/NASA\" title=\"NASA\">NASA</a>,\n  <a href=\"/wiki/NASA\" title=\"NASA\">NASA</a>,\n  <a href=\"/wiki/NASA\" title=\"NASA\">NASA</a>,\n  <a href=\"/wiki/NASA\" title=\"NASA\">NASA</a>,\n  <a href=\"/wiki/Maxar_Technologies\" title=\"Maxar Technologies\">MDA</a>,\n  <a href=\"/wiki/SES_S.A.\" title=\"SES S.A.\">SES</a>,\n  <a href=\"/wiki/Thaicom\" title=\"Thaicom\">Thaicom</a>,\n  <a href=\"/wiki/NASA\" title=\"NASA\">NASA</a>,\n  <a href=\"/wiki/Orbcomm\" title=\"Orbcomm\">Orbcomm</a>,\n  <a href=\"/wiki/AsiaSat\" title=\"AsiaSat\">AsiaSat</a>,\n  <a href=\"/wiki/AsiaSat\" title=\"AsiaSat\">AsiaSat</a>,\n  <a href=\"/wiki/NASA\" title=\"NASA\">NASA</a>,\n  <a href=\"/wiki/NASA\" title=\"NASA\">NASA</a>,\n  <a href=\"/wiki/United_States_Air_Force\" title=\"United States Air Force\">USAF</a>,\n  <a class=\"mw-redirect\" href=\"/wiki/Asia_Broadcast_Satellite\" title=\"Asia Broadcast Satellite\">ABS</a>,\n  <a href=\"/wiki/NASA\" title=\"NASA\">NASA</a>,\n  <a href=\"/wiki/Turkmenistan_National_Space_Agency\" title=\"Turkmenistan National Space Agency\">Turkmenistan National<br/>Space Agency</a>,\n  <a href=\"/wiki/NASA\" title=\"NASA\">NASA</a>,\n  <a href=\"/wiki/Orbcomm\" title=\"Orbcomm\">Orbcomm</a>,\n  <a href=\"/wiki/NASA\" title=\"NASA\">NASA</a>,\n  <a href=\"/wiki/SES_S.A.\" title=\"SES S.A.\">SES</a>,\n  <a href=\"/wiki/NASA\" title=\"NASA\">NASA</a>,\n  <a href=\"/wiki/SKY_Perfect_JSAT\" title=\"SKY Perfect JSAT\">SKY Perfect JSAT Group</a>,\n  <a href=\"/wiki/Thaicom\" title=\"Thaicom\">Thaicom</a>,\n  <a class=\"mw-redirect\" href=\"/wiki/Asia_Broadcast_Satellite\" title=\"Asia Broadcast Satellite\">ABS</a>,\n  <a href=\"/wiki/NASA\" title=\"NASA\">NASA</a>,\n  <a class=\"mw-redirect\" href=\"/wiki/SKY_Perfect_JSAT_Group\" title=\"SKY Perfect JSAT Group\">SKY Perfect JSAT Group</a>,\n  <a href=\"/wiki/Iridium_Communications\" title=\"Iridium Communications\">Iridium Communications</a>,\n  <a href=\"/wiki/NASA\" title=\"NASA\">NASA</a>,\n  <a href=\"/wiki/EchoStar\" title=\"EchoStar\">EchoStar</a>,\n  <a href=\"/wiki/SES_S.A.\" title=\"SES S.A.\">SES</a>,\n  <a href=\"/wiki/National_Reconnaissance_Office\" title=\"National Reconnaissance Office\">NRO</a>,\n  <a href=\"/wiki/Inmarsat\" title=\"Inmarsat\">Inmarsat</a>,\n  <a href=\"/wiki/NASA\" title=\"NASA\">NASA</a>,\n  <a href=\"/wiki/Bulsatcom\" title=\"Bulsatcom\">Bulsatcom</a>,\n  <a href=\"/wiki/Iridium_Communications\" title=\"Iridium Communications\">Iridium Communications</a>,\n  <a href=\"/wiki/Intelsat\" title=\"Intelsat\">Intelsat</a>,\n  <a href=\"/wiki/NASA\" title=\"NASA\">NASA</a>,\n  <a href=\"/wiki/National_Space_Organization\" title=\"National Space Organization\">NSPO</a>,\n  <a href=\"/wiki/United_States_Air_Force\" title=\"United States Air Force\">USAF</a>,\n  <a href=\"/wiki/Iridium_Communications\" title=\"Iridium Communications\">Iridium Communications</a>,\n  <a href=\"/wiki/SES_S.A.\" title=\"SES S.A.\">SES S.A.</a>,\n  <a href=\"/wiki/KT_Corporation\" title=\"KT Corporation\">KT Corporation</a>,\n  <a href=\"/wiki/NASA\" title=\"NASA\">NASA</a>,\n  <a href=\"/wiki/Iridium_Communications\" title=\"Iridium Communications\">Iridium Communications</a>,\n  <a href=\"/wiki/Northrop_Grumman\" title=\"Northrop Grumman\">Northrop Grumman</a>,\n  <a href=\"/wiki/SES_S.A.\" title=\"SES S.A.\">SES</a>,\n  <a class=\"mw-redirect\" href=\"/wiki/Hisdesat\" title=\"Hisdesat\">Hisdesat</a>,\n  <a href=\"/wiki/Hispasat\" title=\"Hispasat\">Hispasat</a>,\n  <a href=\"/wiki/Iridium_Communications\" title=\"Iridium Communications\">Iridium Communications</a>,\n  <a href=\"/wiki/NASA\" title=\"NASA\">NASA</a>,\n  <a href=\"/wiki/NASA\" title=\"NASA\">NASA</a>,\n  <a href=\"/wiki/Thales_Alenia_Space\" title=\"Thales Alenia Space\">Thales-Alenia</a>,\n  <a href=\"/wiki/Iridium_Communications\" title=\"Iridium Communications\">Iridium Communications</a>,\n  <a href=\"/wiki/SES_S.A.\" title=\"SES S.A.\">SES</a>,\n  <a href=\"/wiki/NASA\" title=\"NASA\">NASA</a>,\n  <a href=\"/wiki/Telesat\" title=\"Telesat\">Telesat</a>,\n  <a href=\"/wiki/Iridium_Communications\" title=\"Iridium Communications\">Iridium Communications</a>,\n  <a href=\"/wiki/Telkom_Indonesia\" title=\"Telkom Indonesia\">Telkom Indonesia</a>,\n  <a href=\"/wiki/Telesat\" title=\"Telesat\">Telesat</a>,\n  <a href=\"/wiki/Comisi%C3%B3n_Nacional_de_Actividades_Espaciales\" title=\"Comisi\u00f3n Nacional de Actividades Espaciales\">CONAE</a>,\n  <a href=\"/wiki/Es%27hailSat\" title=\"Es'hailSat\">Es'hailSat</a>,\n  <a href=\"/wiki/Spaceflight_Industries\" title=\"Spaceflight Industries\">Spaceflight Industries</a>,\n  <a href=\"/wiki/NASA\" title=\"NASA\">NASA</a>,\n  <a href=\"/wiki/United_States_Air_Force\" title=\"United States Air Force\">USAF</a>,\n  <a href=\"/wiki/Iridium_Communications\" title=\"Iridium Communications\">Iridium Communications</a>,\n  <a href=\"/wiki/PT_Pasifik_Satelit_Nusantara\" title=\"PT Pasifik Satelit Nusantara\">PSN</a>,\n  <a href=\"/wiki/NASA\" title=\"NASA\">NASA</a>,\n  <a href=\"/wiki/NASA\" title=\"NASA\">NASA</a>,\n  <a href=\"/wiki/SpaceX\" title=\"SpaceX\">SpaceX</a>,\n  <a href=\"/wiki/Canadian_Space_Agency\" title=\"Canadian Space Agency\">Canadian Space Agency</a>,\n  <a href=\"/wiki/NASA\" title=\"NASA\">NASA</a>,\n  <a href=\"/wiki/Spacecom\" title=\"Spacecom\">Spacecom</a>,\n  <a href=\"/wiki/Spacecom\" title=\"Spacecom\">SpaceX</a>,\n  <a href=\"/wiki/NASA\" title=\"NASA\">NASA</a>,\n  <a class=\"mw-redirect\" href=\"/wiki/SKY_Perfect_JSAT_Group\" title=\"SKY Perfect JSAT Group\">Sky Perfect JSAT</a>,\n  <a href=\"/wiki/SpaceX\" title=\"SpaceX\">SpaceX</a>,\n  <a href=\"/wiki/NASA\" title=\"NASA\">NASA</a>,\n  <a href=\"/wiki/SpaceX\" title=\"SpaceX\">SpaceX</a>,\n  <a href=\"/wiki/SpaceX\" title=\"SpaceX\">SpaceX</a>,\n  <a href=\"/wiki/NASA\" title=\"NASA\">NASA</a>,\n  <a href=\"/wiki/SpaceX\" title=\"SpaceX\">SpaceX</a>,\n  <a href=\"/wiki/SpaceX\" title=\"SpaceX\">SpaceX</a>,\n  <a href=\"/wiki/NASA\" title=\"NASA\">NASA</a>,\n  <a href=\"/wiki/SpaceX\" title=\"SpaceX\">SpaceX</a>,\n  <a href=\"/wiki/SpaceX\" title=\"SpaceX\">SpaceX</a>,\n  <a href=\"/wiki/United_States_Space_Force\" title=\"United States Space Force\">U.S. Space Force</a>,\n  <a href=\"/wiki/Republic_of_Korea_Army\" title=\"Republic of Korea Army\">Republic of Korea Army</a>,\n  <a href=\"/wiki/SpaceX\" title=\"SpaceX\">SpaceX</a>,\n  <a href=\"/wiki/SpaceX\" title=\"SpaceX\">SpaceX</a>,\n  <a class=\"mw-redirect\" href=\"/wiki/CONAE\" title=\"CONAE\">CONAE</a>,\n  <a href=\"/wiki/SpaceX\" title=\"SpaceX\">SpaceX</a>,\n  <a href=\"/wiki/SpaceX\" title=\"SpaceX\">SpaceX</a>,\n  <a href=\"/wiki/SpaceX\" title=\"SpaceX\">SpaceX</a>,\n  <a href=\"/wiki/SpaceX\" title=\"SpaceX\">SpaceX</a>,\n  <a href=\"/wiki/United_States_Space_Force\" title=\"United States Space Force\">USSF</a>,\n  <a href=\"/wiki/NASA\" title=\"NASA\">NASA</a>,\n  <a href=\"/wiki/NASA\" title=\"NASA\">NASA</a>,\n  <a href=\"/wiki/SpaceX\" title=\"SpaceX\">SpaceX</a>,\n  <a href=\"/wiki/NASA\" title=\"NASA\">NASA</a>,\n  <a href=\"/wiki/Sirius_XM\" title=\"Sirius XM\">Sirius XM</a>,\n  <a href=\"/wiki/National_Reconnaissance_Office\" title=\"National Reconnaissance Office\">NRO</a>,\n  <a href=\"/wiki/T%C3%BCrksat_(company)\" title=\"T\u00fcrksat (company)\">T\u00fcrksat</a>,\n  <a href=\"/wiki/SpaceX\" title=\"SpaceX\">SpaceX</a>,\n  None,\n  <a href=\"/wiki/SpaceX\" title=\"SpaceX\">SpaceX</a>,\n  <a href=\"/wiki/SpaceX\" title=\"SpaceX\">SpaceX</a>,\n  <a href=\"/wiki/SpaceX\" title=\"SpaceX\">SpaceX</a>,\n  <a href=\"/wiki/SpaceX\" title=\"SpaceX\">SpaceX</a>,\n  <a href=\"/wiki/SpaceX\" title=\"SpaceX\">SpaceX</a>,\n  <a href=\"/wiki/SpaceX\" title=\"SpaceX\">SpaceX</a>,\n  <a href=\"/wiki/SpaceX\" title=\"SpaceX\">SpaceX</a>,\n  <a href=\"/wiki/NASA\" title=\"NASA\">NASA</a>,\n  <a href=\"/wiki/SpaceX\" title=\"SpaceX\">SpaceX</a>,\n  <a href=\"/wiki/SpaceX\" title=\"SpaceX\">SpaceX</a>,\n  <a href=\"/wiki/SpaceX\" title=\"SpaceX\">SpaceX</a>,\n  <a href=\"/wiki/SpaceX\" title=\"SpaceX\">SpaceX</a>,\n  <a href=\"/wiki/SpaceX\" title=\"SpaceX\">SpaceX</a>,\n  <a href=\"/wiki/NASA\" title=\"NASA\">NASA</a>,\n  <a href=\"/wiki/Sirius_XM\" title=\"Sirius XM\">Sirius XM</a>],\n 'Launch outcome': ['Success\\n',\n  'Success',\n  'Success',\n  'Success\\n',\n  'Success\\n',\n  'Success',\n  'Success',\n  'Success',\n  'Success\\n',\n  'Success',\n  'Success',\n  'Success',\n  'Success',\n  'Success',\n  'Success\\n',\n  'Success\\n',\n  'Success\\n',\n  'Success\\n',\n  'Failure',\n  'Success\\n',\n  'Success\\n',\n  'Success\\n',\n  'Success',\n  'Success\\n',\n  'Success\\n',\n  'Success\\n',\n  'Success\\n',\n  'Success\\n',\n  'Success\\n',\n  'Success\\n',\n  'Success\\n',\n  'Success',\n  'Success\\n',\n  'Success\\n',\n  'Success\\n',\n  'Success\\n',\n  'Success\\n',\n  'Success\\n',\n  'Success\\n',\n  'Success\\n',\n  'Success\\n',\n  'Success\\n',\n  'Success\\n',\n  'Success\\n',\n  'Success\\n',\n  'Success',\n  'Success',\n  'Success',\n  'Success',\n  'Success',\n  'Success',\n  'Success',\n  'Success',\n  'Success',\n  'Success',\n  'Success',\n  'Success',\n  'Success',\n  'Success',\n  'Success',\n  'Success',\n  'Success',\n  'Success',\n  'Success',\n  'Success\\n',\n  'Success',\n  'Success\\n',\n  'Success\\n',\n  'Success\\n',\n  'Success\\n',\n  'Success\\n',\n  'Success\\n',\n  'Success\\n',\n  'Success\\n',\n  'Success\\n',\n  'Success\\n',\n  'Success\\n',\n  'Success\\n',\n  'Success\\n',\n  'Success\\n',\n  'Success\\n',\n  'Success\\n',\n  'Success\\n',\n  'Success\\n',\n  'Success\\n',\n  'Success\\n',\n  'Success\\n',\n  'Success\\n',\n  'Success\\n',\n  'Success\\n',\n  'Success\\n',\n  'Success\\n',\n  'Success\\n',\n  'Success\\n',\n  'Success\\n',\n  'Success\\n',\n  'Success\\n',\n  'Success\\n',\n  'Success\\n',\n  'Success\\n',\n  'Success\\n',\n  'Success\\n',\n  'Success\\n',\n  'Success\\n',\n  'Success\\n',\n  'Success\\n',\n  'Success\\n',\n  'Success\\n',\n  'Success\\n',\n  'Success\\n',\n  'Success\\n',\n  'Success\\n',\n  'Success\\n',\n  'Success\\n',\n  'Success\\n',\n  'Success\\n',\n  'Success\\n',\n  'Success\\n',\n  'Success\\n',\n  'Success\\n',\n  'Success\\n'],\n 'Version Booster': ['F9 v1.0B0003.1',\n  'F9 v1.0B0004.1',\n  'F9 v1.0B0005.1',\n  'F9 v1.0B0006.1',\n  'F9 v1.0B0007.1',\n  'F9 v1.1B1003',\n  'F9 v1.1',\n  'F9 v1.1',\n  'F9 v1.1',\n  'F9 v1.1',\n  'F9 v1.1',\n  'F9 v1.1',\n  'F9 v1.1',\n  'F9 v1.1',\n  'F9 v1.1',\n  'F9 v1.1',\n  'F9 v1.1',\n  'F9 v1.1',\n  'F9 v1.1',\n  'F9 FT',\n  'F9 v1.1',\n  'F9 FT',\n  'F9 FT',\n  'F9 FT',\n  'F9 FT',\n  'F9 FT',\n  'F9 FT',\n  'F9 FT',\n  'F9 FT',\n  'F9 FT',\n  'F9 FT',\n  'F9 FT\u267a',\n  'F9 FT',\n  'F9 FT',\n  'F9 FT',\n  'F9 FTB1029.2',\n  'F9 FT',\n  'F9 FT',\n  'F9 B4',\n  'F9 FT',\n  'F9 B4',\n  'F9 B4',\n  'F9 FTB1031.2',\n  'F9 B4',\n  'F9 FTB1035.2',\n  'F9 FTB1036.2',\n  'F9 B4',\n  'F9 FTB1032.2',\n  'F9 FTB1038.2',\n  'F9 B4',\n  'F9 B4B1041.2',\n  'F9 B4B1039.2',\n  'F9 B4',\n  'F9 B5B1046.1',\n  'F9 B4B1043.2',\n  'F9 B4B1040.2',\n  'F9 B4B1045.2',\n  'F9 B5',\n  'F9 B5B1048',\n  'F9 B5B1046.2',\n  'F9 B5',\n  'F9 B5B1048.2',\n  'F9 B5B1047.2',\n  'F9 B5B1046.3',\n  'F9 B5',\n  'F9 B5',\n  'F9 B5B1049.2',\n  'F9 B5B1048.3',\n  'F9 B5[268]',\n  'F9 B5',\n  'F9 B5B1049.3',\n  'F9 B5B1051.2',\n  'F9 B5B1056.2',\n  'F9 B5B1047.3',\n  'F9 B5',\n  'F9 B5',\n  'F9 B5B1056.3',\n  'F9 B5',\n  'F9 B5',\n  'F9 B5',\n  'F9 B5',\n  'F9 B5',\n  'F9 B5',\n  'F9 B5',\n  'F9 B5',\n  'F9 B5',\n  'F9 B5',\n  'F9 B5',\n  'F9 B5B1058.2',\n  'F9 B5',\n  'F9 B5B1049.6',\n  'F9 B5',\n  'F9 B5B1060.2',\n  'F9 B5B1058.3',\n  'F9 B5B1051.6',\n  'F9 B5',\n  'F9 B5',\n  'F9 B5',\n  'F9 B5',\n  'F9 B5 \u267a',\n  'F9 B5 \u267a',\n  'F9 B5 \u267a',\n  'F9 B5 \u267a',\n  'F9 B5',\n  'F9 B5B1051.8',\n  'F9 B5B1058.5',\n  'F9 B5 \u267a',\n  'F9 B5 \u267a',\n  'F9 B5 \u267a',\n  'F9 B5 \u267a',\n  'F9 B5 \u267a',\n  'F9 B5B1060.6',\n  'F9 B5 \u267a',\n  'F9 B5B1061.2',\n  'F9 B5B1060.7',\n  'F9 B5B1049.9',\n  'F9 B5B1051.10',\n  'F9 B5B1058.8',\n  'F9 B5B1063.2',\n  'F9 B5B1067.1',\n  'F9 B5'],\n 'Booster landing': ['Failure',\n  'Failure',\n  'No attempt\\n',\n  'No attempt',\n  'No attempt\\n',\n  'Uncontrolled',\n  'No attempt',\n  'No attempt',\n  'Controlled',\n  'Controlled',\n  'No attempt',\n  'No attempt\\n',\n  'Uncontrolled',\n  'Failure ',\n  'Controlled',\n  'No attempt',\n  'Failure',\n  'No attempt',\n  'Precluded',\n  'Success',\n  'Failure',\n  'Failure',\n  'Success',\n  'Success',\n  'Success',\n  'Failure',\n  'Success',\n  'Success',\n  'Success',\n  'Success',\n  'No attempt',\n  'Success',\n  'Success',\n  'No attempt',\n  'Success',\n  'Success',\n  'Success',\n  'No attempt',\n  'Success',\n  'Success',\n  'Success',\n  'Success',\n  'Success',\n  'Success',\n  'Success',\n  'Controlled',\n  'Success',\n  'Controlled',\n  'No attempt',\n  'No attempt',\n  'No attempt',\n  'No attempt',\n  'Success',\n  'Success',\n  'No attempt',\n  'No attempt',\n  'No attempt',\n  'Success',\n  'Success',\n  'Success',\n  'Success',\n  'Success',\n  'Success',\n  'Success',\n  'Failure',\n  'No attempt',\n  'Success',\n  'Success',\n  'Success',\n  'Success',\n  'Success',\n  'Success',\n  'Success',\n  'No attempt',\n  'Success',\n  'Success',\n  'Success',\n  'Success',\n  'No attempt\\n',\n  'Success',\n  'Failure',\n  'Success',\n  'Failure',\n  'Success',\n  'Success',\n  'Success',\n  'Success',\n  'Success',\n  'Success',\n  'Success',\n  'Success',\n  'Success',\n  'Success',\n  'Success',\n  'Success',\n  'Success',\n  'Success',\n  'Success',\n  'Success',\n  'Success',\n  'Success',\n  'Success',\n  'Success',\n  'Success',\n  'Success',\n  'Success',\n  'Success',\n  'Failure',\n  'Success',\n  'Success',\n  'Success',\n  'Success',\n  'Success',\n  'Success',\n  'Success',\n  'Success',\n  'Success',\n  'Success',\n  'Success',\n  'Success',\n  'Success'],\n 'Date': ['4 June 2010',\n  '8 December 2010',\n  '22 May 2012',\n  '8 October 2012',\n  '1 March 2013',\n  '29 September 2013',\n  '3 December 2013',\n  '6 January 2014',\n  '18 April 2014',\n  '14 July 2014',\n  '5 August 2014',\n  '7 September 2014',\n  '21 September 2014',\n  '10 January 2015',\n  '11 February 2015',\n  '2 March 2015',\n  '14 April 2015',\n  '27 April 2015',\n  '28 June 2015',\n  '22 December 2015',\n  '17 January 2016',\n  '4 March 2016',\n  '8 April 2016',\n  '6 May 2016',\n  '27 May 2016',\n  '15 June 2016',\n  '18 July 2016',\n  '14 August 2016',\n  '14 January 2017',\n  '19 February 2017',\n  '16 March 2017',\n  '30 March 2017',\n  '1 May 2017',\n  '15 May 2017',\n  '3 June 2017',\n  '23 June 2017',\n  '25 June 2017',\n  '5 July 2017',\n  '14 August 2017',\n  '24 August 2017',\n  '7 September 2017',\n  '9 October 2017',\n  '11 October 2017',\n  '30 October 2017',\n  '15 December 2017',\n  '23 December 2017',\n  '8 January 2018',\n  '31 January 2018',\n  '22 February 2018',\n  '6 March 2018',\n  '30 March 2018',\n  '2 April 2018',\n  '18 April 2018',\n  '11 May 2018',\n  '22 May 2018',\n  '4 June 2018',\n  '29 June 2018',\n  '22 July 2018',\n  '25 July 2018',\n  '7 August 2018',\n  '10 September 2018',\n  '8 October 2018',\n  '15 November 2018',\n  '3 December 2018',\n  '5 December 2018',\n  '23 December 2018',\n  '11 January 2019',\n  '22 February 2019',\n  '2 March 2019',\n  '4 May 2019',\n  '24 May 2019',\n  '12 June 2019',\n  '25 July 2019',\n  '6 August 2019',\n  '11 November 2019',\n  '5 December 2019',\n  '17 December 2019',\n  '7 January 2020',\n  '19 January 2020',\n  '29 January 2020',\n  '17 February 2020',\n  '7 March 2020',\n  '18 March 2020',\n  '22 April 2020',\n  '30 May 2020',\n  '4 June 2020',\n  '13 June 2020',\n  '30 June 2020',\n  '20 July 2020',\n  '7 August 2020',\n  '18 August 2020',\n  '30 August 2020',\n  '3 September 2020',\n  '6 October 2020',\n  '18 October 2020',\n  '24 October 2020',\n  '5 November 2020',\n  '16 November 2020',\n  '21 November 2020',\n  '25 November 2020',\n  '6 December 2020',\n  '13 December 2020',\n  '19 December 2020',\n  '8 January 2021',\n  '20 January 2021',\n  '24 January 2021',\n  '4 February 2021',\n  '16 February 2021',\n  '4 March 2021',\n  '11 March 2021',\n  '14 March 2021',\n  '24 March 2021',\n  '7 April 2021',\n  '23 April 2021',\n  '29 April 2021',\n  '4 May 2021',\n  '9 May 2021',\n  '15 May 2021',\n  '26 May 2021',\n  '3 June 2021',\n  '6 June 2021'],\n 'Time': ['18:45',\n  '15:43',\n  '07:44',\n  '00:35',\n  '15:10',\n  '16:00',\n  '22:41',\n  '22:06',\n  '19:25',\n  '15:15',\n  '08:00',\n  '05:00',\n  '05:52',\n  '09:47',\n  '23:03',\n  '03:50',\n  '20:10',\n  '23:03',\n  '14:21',\n  '01:29',\n  '18:42',\n  '23:35',\n  '20:43',\n  '05:21',\n  '21:39',\n  '14:29',\n  '04:45',\n  '05:26',\n  '17:54',\n  '14:39',\n  '06:00',\n  '22:27',\n  '11:15',\n  '23:21',\n  '21:07',\n  '19:10',\n  '20:25',\n  '23:38',\n  '16:31',\n  '18:51',\n  '14:00',\n  '12:37',\n  '22:53:00',\n  '19:34',\n  '15:36',\n  '01:27',\n  '01:00',\n  '21:25',\n  '14:17',\n  '05:33',\n  '14:14',\n  '20:30',\n  '22:51',\n  '20:14',\n  '19:47',\n  '04:45',\n  '09:42',\n  '05:50',\n  '11:39',\n  '05:18',\n  '04:45',\n  '02:22',\n  '20:46',\n  '18:34:05',\n  '18:16',\n  '13:51',\n  '15:31',\n  '01:45',\n  '07:49',\n  '06:48',\n  '02:30',\n  '14:17',\n  '22:01',\n  '23:23',\n  '14:56',\n  '17:29',\n  '00:10',\n  '02:19:21',\n  '15:30',\n  '14:07',\n  '15:05',\n  '04:50',\n  '12:16',\n  '19:30',\n  '19:22',\n  '01:25',\n  '09:21',\n  '20:10:46',\n  '21:30',\n  '05:12',\n  '14:31',\n  '23:18',\n  '12:46:14',\n  '11:29:34',\n  '12:25:57',\n  '15:31:34',\n  '23:24:23',\n  '00:27',\n  '17:17:08',\n  '02:13',\n  '16:17:08',\n  '17:30:00',\n  '14:00:00',\n  '02:15',\n  '13:02',\n  '15:00',\n  '06:19',\n  '03:59:37',\n  '08:24',\n  '08:13:29',\n  '10:01',\n  '08:28',\n  '16:34',\n  '9:49',\n  '03:44',\n  '19:01',\n  '06:42',\n  '22:56',\n  '18:59',\n  '17:29',\n  '04:26']}"
                    },
                    "execution_count": 28,
                    "metadata": {},
                    "output_type": "execute_result"
                }
            ],
            "source": "launch_dict"
        },
        {
            "cell_type": "code",
            "execution_count": 29,
            "metadata": {},
            "outputs": [
                {
                    "data": {
                        "text/html": "<div>\n<style scoped>\n    .dataframe tbody tr th:only-of-type {\n        vertical-align: middle;\n    }\n\n    .dataframe tbody tr th {\n        vertical-align: top;\n    }\n\n    .dataframe thead th {\n        text-align: right;\n    }\n</style>\n<table border=\"1\" class=\"dataframe\">\n  <thead>\n    <tr style=\"text-align: right;\">\n      <th></th>\n      <th>Flight No.</th>\n      <th>Launch site</th>\n      <th>Payload</th>\n      <th>Payload mass</th>\n      <th>Orbit</th>\n      <th>Customer</th>\n      <th>Launch outcome</th>\n      <th>Version Booster</th>\n      <th>Booster landing</th>\n      <th>Date</th>\n      <th>Time</th>\n    </tr>\n  </thead>\n  <tbody>\n    <tr>\n      <th>0</th>\n      <td>1</td>\n      <td>CCAFS</td>\n      <td>Dragon Spacecraft Qualification Unit</td>\n      <td>0</td>\n      <td>LEO</td>\n      <td>[SpaceX]</td>\n      <td>Success\\n</td>\n      <td>F9 v1.0B0003.1</td>\n      <td>Failure</td>\n      <td>4 June 2010</td>\n      <td>18:45</td>\n    </tr>\n    <tr>\n      <th>1</th>\n      <td>2</td>\n      <td>CCAFS</td>\n      <td>Dragon</td>\n      <td>0</td>\n      <td>LEO</td>\n      <td>[NASA]</td>\n      <td>Success</td>\n      <td>F9 v1.0B0004.1</td>\n      <td>Failure</td>\n      <td>8 December 2010</td>\n      <td>15:43</td>\n    </tr>\n    <tr>\n      <th>2</th>\n      <td>3</td>\n      <td>CCAFS</td>\n      <td>Dragon</td>\n      <td>525 kg</td>\n      <td>LEO</td>\n      <td>[NASA]</td>\n      <td>Success</td>\n      <td>F9 v1.0B0005.1</td>\n      <td>No attempt\\n</td>\n      <td>22 May 2012</td>\n      <td>07:44</td>\n    </tr>\n    <tr>\n      <th>3</th>\n      <td>4</td>\n      <td>CCAFS</td>\n      <td>SpaceX CRS-1</td>\n      <td>4,700 kg</td>\n      <td>LEO</td>\n      <td>[NASA]</td>\n      <td>Success\\n</td>\n      <td>F9 v1.0B0006.1</td>\n      <td>No attempt</td>\n      <td>8 October 2012</td>\n      <td>00:35</td>\n    </tr>\n    <tr>\n      <th>4</th>\n      <td>5</td>\n      <td>CCAFS</td>\n      <td>SpaceX CRS-2</td>\n      <td>4,877 kg</td>\n      <td>LEO</td>\n      <td>[NASA]</td>\n      <td>Success\\n</td>\n      <td>F9 v1.0B0007.1</td>\n      <td>No attempt\\n</td>\n      <td>1 March 2013</td>\n      <td>15:10</td>\n    </tr>\n  </tbody>\n</table>\n</div>",
                        "text/plain": "  Flight No. Launch site                               Payload Payload mass  \\\n0          1       CCAFS  Dragon Spacecraft Qualification Unit            0   \n1          2       CCAFS                                Dragon            0   \n2          3       CCAFS                                Dragon       525 kg   \n3          4       CCAFS                          SpaceX CRS-1     4,700 kg   \n4          5       CCAFS                          SpaceX CRS-2     4,877 kg   \n\n  Orbit  Customer Launch outcome Version Booster Booster landing  \\\n0   LEO  [SpaceX]      Success\\n  F9 v1.0B0003.1         Failure   \n1   LEO    [NASA]        Success  F9 v1.0B0004.1         Failure   \n2   LEO    [NASA]        Success  F9 v1.0B0005.1    No attempt\\n   \n3   LEO    [NASA]      Success\\n  F9 v1.0B0006.1      No attempt   \n4   LEO    [NASA]      Success\\n  F9 v1.0B0007.1    No attempt\\n   \n\n              Date   Time  \n0      4 June 2010  18:45  \n1  8 December 2010  15:43  \n2      22 May 2012  07:44  \n3   8 October 2012  00:35  \n4     1 March 2013  15:10  "
                    },
                    "execution_count": 29,
                    "metadata": {},
                    "output_type": "execute_result"
                }
            ],
            "source": "df=pd.DataFrame(launch_dict)\ndf.head()"
        },
        {
            "cell_type": "markdown",
            "metadata": {},
            "source": "We can now export it to a <b>CSV</b> for the next section, but to make the answers consistent and in case you have difficulties finishing this lab.\n\nFollowing labs will be using a provided dataset to make each lab independent.\n"
        },
        {
            "cell_type": "markdown",
            "metadata": {},
            "source": "<code>df.to_csv('spacex_web_scraped.csv', index=False)</code>\n"
        },
        {
            "cell_type": "code",
            "execution_count": null,
            "metadata": {},
            "outputs": [],
            "source": "df.to_csv('spacex_web_scraped.csv', index=False)"
        },
        {
            "cell_type": "markdown",
            "metadata": {},
            "source": "## Authors\n"
        },
        {
            "cell_type": "markdown",
            "metadata": {},
            "source": "<a href=\"https://www.linkedin.com/in/yan-luo-96288783/?utm_medium=Exinfluencer&utm_source=Exinfluencer&utm_content=000026UJ&utm_term=10006555&utm_id=NA-SkillsNetwork-Channel-SkillsNetworkCoursesIBMDS0321ENSkillsNetwork26802033-2021-01-01\">Yan Luo</a>\n"
        },
        {
            "cell_type": "markdown",
            "metadata": {},
            "source": "<a href=\"https://www.linkedin.com/in/nayefaboutayoun/?utm_medium=Exinfluencer&utm_source=Exinfluencer&utm_content=000026UJ&utm_term=10006555&utm_id=NA-SkillsNetwork-Channel-SkillsNetworkCoursesIBMDS0321ENSkillsNetwork26802033-2021-01-01\">Nayef Abou Tayoun</a>\n"
        },
        {
            "cell_type": "markdown",
            "metadata": {},
            "source": "## Change Log\n"
        },
        {
            "cell_type": "markdown",
            "metadata": {},
            "source": "| Date (YYYY-MM-DD) | Version | Changed By | Change Description          |\n| ----------------- | ------- | ---------- | --------------------------- |\n| 2021-06-09        | 1.0     | Yan Luo    | Tasks updates               |\n| 2020-11-10        | 1.0     | Nayef      | Created the initial version |\n"
        },
        {
            "cell_type": "markdown",
            "metadata": {},
            "source": "Copyright \u00a9 2021 IBM Corporation. All rights reserved.\n"
        }
    ],
    "metadata": {
        "kernelspec": {
            "display_name": "Python 3.8",
            "language": "python",
            "name": "python3"
        },
        "language_info": {
            "codemirror_mode": {
                "name": "ipython",
                "version": 3
            },
            "file_extension": ".py",
            "mimetype": "text/x-python",
            "name": "python",
            "nbconvert_exporter": "python",
            "pygments_lexer": "ipython3",
            "version": "3.8.12"
        }
    },
    "nbformat": 4,
    "nbformat_minor": 4
}